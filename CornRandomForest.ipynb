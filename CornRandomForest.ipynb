{
 "cells": [
  {
   "cell_type": "code",
   "execution_count": 2,
   "metadata": {
    "collapsed": true
   },
   "outputs": [],
   "source": [
    "%matplotlib inline\n",
    "\n",
    "import numpy as np\n",
    "import pandas as pd\n",
    "import seaborn as sns\n",
    "\n",
    "from sklearn import ensemble as ens\n",
    "from sklearn import linear_model as lm\n",
    "from sklearn import neural_network as nn\n",
    "from sklearn import preprocessing as pre\n",
    "from sklearn import svm\n",
    "\n",
    "from sklearn.model_selection import train_test_split\n",
    "from sklearn.metrics import accuracy_score"
   ]
  },
  {
   "cell_type": "code",
   "execution_count": 3,
   "metadata": {
    "collapsed": true
   },
   "outputs": [],
   "source": [
    "ohe = pre.OneHotEncoder()\n",
    "mlb = pre.MultiLabelBinarizer()"
   ]
  },
  {
   "cell_type": "code",
   "execution_count": 31,
   "metadata": {},
   "outputs": [
    {
     "name": "stdout",
     "output_type": "stream",
     "text": [
      "['Genotype', 'Density', 'Nitrogen', 'Hormone', 'Kernelwt', 'Lipidwt', 'wtpercent', 'PKID', 'PALMETIC', 'LINOLEIC', 'OLEIC', 'STEARIC', 'INDICATOR']\n",
      "['Genotype', 'Density', 'Nitrogen', 'Hormone']\n",
      "['Kernelwt', 'Lipidwt', 'wtpercent', 'PALMETIC', 'LINOLEIC', 'OLEIC', 'STEARIC', 'INDICATOR']\n"
     ]
    }
   ],
   "source": [
    "'''Data loading and initial manipulation'''\n",
    "df = pd.read_csv('C:\\\\Users\\mjs3607\\Documents\\Stapleton\\'s Lab\\Spectral Data\\headers3mgperml.csv')\n",
    "x = df.iloc[:, 15:]\n",
    "y_orig = df.iloc[:, 1:14]\n",
    "# ohe.fit(y_orig)\n",
    "# print(\"{}\\n{}\".format(ohe.n_values_, ohe.feature_indices_))\n",
    "\n",
    "y_cat, y_num = pd.get_dummies(pd.DataFrame(df.iloc[:, 1:5])), df.iloc[:, 5:14].drop('PKID', 1, inplace=False)\n",
    "y = pd.concat((y_cat, y_num), axis=1)\n",
    "\n",
    "headers = list(y_orig)\n",
    "cat_headers = list(y_orig.iloc[:, 0:4])\n",
    "num_headers = list(y_orig.iloc[:, 4:14].drop('PKID', 1, inplace=False))\n",
    "print(\"{}\\n{}\\n{}\".format(headers, cat_headers, num_headers))\n",
    "# print(y)"
   ]
  },
  {
   "cell_type": "code",
   "execution_count": 73,
   "metadata": {},
   "outputs": [
    {
     "name": "stdout",
     "output_type": "stream",
     "text": [
      "x_train: (34, 240)\tx_test: (12, 240)\ty_train: (34, 20)\ty_test: (12, 20)\n",
      "xc_train: (34, 240)\txc_test: (12, 240)\tyc_train: (34, 12)\tyc_test: (12, 12)\n",
      "xn_train: (34, 240)\txn_test: (12, 240)\tyn_train: (34, 8)\tyn_test: (12, 8)\n"
     ]
    }
   ],
   "source": [
    "'''Creating training and testing sets'''\n",
    "x_train, x_test, y_train, y_test = train_test_split(x, y, random_state=1)\n",
    "xc_train, xc_test, yc_train, yc_test = train_test_split(x, y_cat, random_state=1)\n",
    "xn_train, xn_test, yn_train, yn_test = train_test_split(x, y_num, random_state=1)\n",
    "\n",
    "col_train = {}\n",
    "col_test = {}\n",
    "\n",
    "for i in range(len(headers)):\n",
    "    xtmp_train, xtmp_test, ytmp_train, ytmp_test = train_test_split(x, y_orig.iloc[:, i], random_state=1)\n",
    "    col_train[headers[i]] = (xtmp_train, ytmp_train)\n",
    "    col_test[headers[i]] = (xtmp_test, ytmp_test)\n",
    "\n",
    "print(\"x_train: {}\\tx_test: {}\\ty_train: {}\\ty_test: {}\".format(x_train.shape, x_test.shape, y_train.shape, y_test.shape))\n",
    "print(\"xc_train: {}\\txc_test: {}\\tyc_train: {}\\tyc_test: {}\".format(xc_train.shape, xc_test.shape, yc_train.shape, yc_test.shape))\n",
    "print(\"xn_train: {}\\txn_test: {}\\tyn_train: {}\\tyn_test: {}\".format(xn_train.shape, xn_test.shape, yn_train.shape, yn_test.shape))\n",
    "# print(\"y_orig_train: {}\\t\\ty_orig_test: {}\\n\\n\".format(y_orig_train.shape, y_orig_test.shape))\n",
    "\n",
    "# print(y_train)\n",
    "# print(\"\\n\\n\")\n",
    "# print(y_test)"
   ]
  },
  {
   "cell_type": "code",
   "execution_count": null,
   "metadata": {
    "collapsed": true
   },
   "outputs": [],
   "source": [
    "colormap = plt.cm.viridis\n",
    "plt.figure(figsize=(12,12))\n",
    "plt.title('Pearson Correlation of Features', y=1.05, size=15)\n",
    "sns.heatmap(train.astype(float).corr(),linewidths=0.1,vmax=1.0, square=True, cmap=colormap, linecolor='white', annot=True)"
   ]
  },
  {
   "cell_type": "code",
   "execution_count": 89,
   "metadata": {},
   "outputs": [
    {
     "name": "stdout",
     "output_type": "stream",
     "text": [
      "Categorical Data\n",
      "Genotype RandomForest: 0.9166666666666666\n",
      "\n",
      "Density RandomForest: 0.6666666666666666\n",
      "\n",
      "Nitrogen RandomForest: 0.9166666666666666\n",
      "\n",
      "Hormone RandomForest: 0.25\n",
      "\n"
     ]
    }
   ],
   "source": [
    "'''Random Forest Classifier'''\n",
    "rf_clf = ens.RandomForestClassifier(n_estimators=1000)\n",
    "\n",
    "print(\"Categorical Data\")\n",
    "for i in cat_headers:\n",
    "    xtrain, ytrain = col_train[i]\n",
    "    xtest, ytest = col_test[i]\n",
    "    \n",
    "    rf_clf.fit(xtrain, ytrain)\n",
    "    rf_pred = rf_clf.predict(xtest)\n",
    "    \n",
    "    print(\"{} RandomForest: {}\\n\".format(i, accuracy_score(rf_pred, ytest)))    "
   ]
  },
  {
   "cell_type": "code",
   "execution_count": 85,
   "metadata": {},
   "outputs": [
    {
     "name": "stdout",
     "output_type": "stream",
     "text": [
      "0.160770383023\n",
      "\n",
      "\n",
      "Numerical Variables:\n",
      "\n",
      "\tKernelwt RidgeR: -0.5349452594408226\n",
      "\n",
      "\tLipidwt RidgeR: -0.38578324833040445\n",
      "\n",
      "\twtpercent RidgeR: -0.10050210522880931\n",
      "\n",
      "\tPALMETIC RidgeR: -0.075067487161816\n",
      "\n",
      "\tLINOLEIC RidgeR: 0.35298571521400657\n",
      "\n",
      "\tOLEIC RidgeR: -0.06508833579614692\n",
      "\n",
      "\tSTEARIC RidgeR: -0.14897269787164058\n",
      "\n",
      "\tINDICATOR RidgeR: 1.0\n",
      "\n"
     ]
    }
   ],
   "source": [
    "'''Ridge Regression'''\n",
    "ridgeR = lm.Ridge(alpha=1.0)\n",
    "ridgeR.fit(x_train, y_train)\n",
    "print(ridgeR.score(x_test, y_test))\n",
    "\n",
    "print(\"\\n\\nNumerical Variables:\\n\")\n",
    "for i in num_headers:\n",
    "    xtrain, ytrain = col_train[i]\n",
    "    xtest, ytest = col_test[i]\n",
    "    \n",
    "    ridgeR.fit(xtrain, ytrain)\n",
    "    print(\"\\t{} RidgeR: {}\\n\".format(i, ridgeR.score(xtest, ytest)))"
   ]
  },
  {
   "cell_type": "code",
   "execution_count": 84,
   "metadata": {},
   "outputs": [
    {
     "ename": "SyntaxError",
     "evalue": "invalid syntax (<ipython-input-84-836e72cf4a66>, line 6)",
     "output_type": "error",
     "traceback": [
      "\u001b[1;36m  File \u001b[1;32m\"<ipython-input-84-836e72cf4a66>\"\u001b[1;36m, line \u001b[1;32m6\u001b[0m\n\u001b[1;33m    for i in :\u001b[0m\n\u001b[1;37m             ^\u001b[0m\n\u001b[1;31mSyntaxError\u001b[0m\u001b[1;31m:\u001b[0m invalid syntax\n"
     ]
    }
   ],
   "source": [
    "'''Ridge Classifier'''\n",
    "ridge_clf = lm.RidgeClassifier(alpha=1.0)\n",
    "ridge_clf.fit(x_train, y_train)\n",
    "print(ridge_clf.score(x_test, y_test))\n",
    "\n",
    "for i in :\n",
    "    xtrain, ytrain = col_train[i]\n",
    "    xtest, ytest = col_test[i]\n",
    "    \n",
    "    ridge_clf.fit(xtrain, ytrain)    \n",
    "    print(\"{} RidgeC: {}\\n\".format(i, ridge_clf.score(xtest, ytest)))    "
   ]
  },
  {
   "cell_type": "code",
   "execution_count": 83,
   "metadata": {},
   "outputs": [
    {
     "name": "stdout",
     "output_type": "stream",
     "text": [
      "Genotype SVM: 1.0\n",
      "\n",
      "Density SVM: 0.5833333333333334\n",
      "\n",
      "Nitrogen SVM: 0.9166666666666666\n",
      "\n",
      "Hormone SVM: 0.16666666666666666\n",
      "\n"
     ]
    }
   ],
   "source": [
    "'''SVC - Degree 3 Polynomial'''\n",
    "poly_svc = svm.SVC(kernel='poly', degree=3, C=1.0, probability=True)\n",
    "# poly_svc.fit(x_geno_train, y_geno_train)\n",
    "# print(accuracy_score(poly_svc.predict(x_geno_test), y_geno_test))\n",
    "\n",
    "\n",
    "for i in cat_headers:\n",
    "    xtrain, ytrain = col_train[i]\n",
    "    xtest, ytest = col_test[i]\n",
    "    \n",
    "    poly_svc.fit(xtrain, ytrain)\n",
    "    svc_pred = poly_svc.predict(xtest)\n",
    "    \n",
    "    print(\"{} SVM: {}\\n\".format(i, accuracy_score(svc_pred, ytest)))    "
   ]
  },
  {
   "cell_type": "code",
   "execution_count": null,
   "metadata": {
    "collapsed": true
   },
   "outputs": [],
   "source": [
    "'''SVR - BOOP'''"
   ]
  },
  {
   "cell_type": "code",
   "execution_count": 82,
   "metadata": {},
   "outputs": [
    {
     "name": "stdout",
     "output_type": "stream",
     "text": [
      "Genotype MLP: 0.8333333333333334\n",
      "Density MLP: 0.6666666666666666\n",
      "Nitrogen MLP: 0.8333333333333334\n",
      "Hormone MLP: 0.16666666666666666\n"
     ]
    }
   ],
   "source": [
    "'''MLP Classifier'''\n",
    "mlp_clf = nn.MLPClassifier(solver='lbfgs', alpha=1e-10, hidden_layer_sizes=(30, 15, 7))\n",
    "\n",
    "for i in cat_headers:\n",
    "    xtrain, ytrain = col_train[i]\n",
    "    xtest, ytest = col_test[i]\n",
    "\n",
    "    mlp_clf.fit(xtrain, ytrain)    \n",
    "    print(\"{} MLP: {}\".format(i, mlp_clf.score(xtest, ytest)))"
   ]
  },
  {
   "cell_type": "code",
   "execution_count": 81,
   "metadata": {},
   "outputs": [
    {
     "name": "stdout",
     "output_type": "stream",
     "text": [
      "Kernelwt MLP: -0.30670512700711194\n",
      "Lipidwt MLP: -0.00875863164917412\n",
      "wtpercent MLP: -7120.022235553953\n",
      "PALMETIC MLP: -0.0010197248173577922\n",
      "LINOLEIC MLP: 0.18646934418441308\n",
      "OLEIC MLP: 0.13424375366005314\n",
      "STEARIC MLP: 0.0009626118585954746\n",
      "INDICATOR MLP: 0.0\n"
     ]
    }
   ],
   "source": [
    "'''MLP Regressor'''\n",
    "mlpR = nn.MLPRegressor(solver='lbfgs', alpha=1e-5, hidden_layer_sizes=(30, 15, 7))\n",
    "\n",
    "for i in num_headers:\n",
    "    xtrain, ytrain = col_train[i]\n",
    "    xtest, ytest = col_test[i]\n",
    "\n",
    "    mlpR.fit(xtrain, ytrain)    \n",
    "    print(\"{} MLP: {}\".format(i, mlpR.score(xtest, ytest)))"
   ]
  },
  {
   "cell_type": "code",
   "execution_count": 77,
   "metadata": {},
   "outputs": [
    {
     "name": "stdout",
     "output_type": "stream",
     "text": [
      "Genotype AdaBoost: 0.8333333333333334\n",
      "\n",
      "Density AdaBoost: 0.6666666666666666\n",
      "\n",
      "Nitrogen AdaBoost: 0.9166666666666666\n",
      "\n",
      "Hormone AdaBoost: 0.25\n",
      "\n"
     ]
    }
   ],
   "source": [
    "'''AdaBoost Classifier'''\n",
    "ada_clf = ens.AdaBoostClassifier()\n",
    "\n",
    "for i in cat_headers:\n",
    "    xtrain, ytrain = col_train[i]\n",
    "    xtest, ytest = col_test[i]\n",
    "\n",
    "    ada_clf.fit(xtrain, ytrain)    \n",
    "    print(\"{} AdaBoost: {}\\n\".format(i, ada_clf.score(xtest, ytest)))    "
   ]
  },
  {
   "cell_type": "code",
   "execution_count": 76,
   "metadata": {},
   "outputs": [
    {
     "name": "stdout",
     "output_type": "stream",
     "text": [
      "Genotype LogReg: 1.0\n",
      "Density LogReg: 0.5\n",
      "Nitrogen LogReg: 1.0\n",
      "Hormone LogReg: 0.08333333333333333\n"
     ]
    }
   ],
   "source": [
    "'''LogReg'''\n",
    "logreg = lm.LogisticRegression()\n",
    "\n",
    "for i in cat_headers:\n",
    "    xtrain, ytrain = col_train[i]\n",
    "    xtest, ytest = col_test[i]\n",
    "\n",
    "    logreg.fit(xtrain, ytrain)    \n",
    "    print(\"{} LogReg: {}\".format(i, logreg.score(xtest, ytest)))"
   ]
  },
  {
   "cell_type": "code",
   "execution_count": null,
   "metadata": {
    "collapsed": true
   },
   "outputs": [],
   "source": []
  }
 ],
 "metadata": {
  "kernelspec": {
   "display_name": "Python 3",
   "language": "python",
   "name": "python3"
  },
  "language_info": {
   "codemirror_mode": {
    "name": "ipython",
    "version": 3
   },
   "file_extension": ".py",
   "mimetype": "text/x-python",
   "name": "python",
   "nbconvert_exporter": "python",
   "pygments_lexer": "ipython3",
   "version": "3.6.1"
  }
 },
 "nbformat": 4,
 "nbformat_minor": 2
}
